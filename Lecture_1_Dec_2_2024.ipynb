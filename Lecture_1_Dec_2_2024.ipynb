{
 "cells": [
  {
   "cell_type": "markdown",
   "id": "d2e3b7c9-3ed8-4ad3-a43e-ef20747f3804",
   "metadata": {},
   "source": [
    "*Variable*"
   ]
  },
  {
   "cell_type": "code",
   "execution_count": 2,
   "id": "4508034a-7ffd-4a9e-8221-b8181a03526f",
   "metadata": {},
   "outputs": [],
   "source": [
    "x=10"
   ]
  },
  {
   "cell_type": "code",
   "execution_count": 3,
   "id": "7f51c120-40d6-4615-a479-fa71cde8410d",
   "metadata": {
    "editable": true,
    "slideshow": {
     "slide_type": ""
    },
    "tags": []
   },
   "outputs": [
    {
     "name": "stdout",
     "output_type": "stream",
     "text": [
      "10\n"
     ]
    }
   ],
   "source": [
    "print(x)"
   ]
  },
  {
   "cell_type": "code",
   "execution_count": 4,
   "id": "3f27e41b-6452-4121-8d1e-647692a1f858",
   "metadata": {},
   "outputs": [
    {
     "data": {
      "text/plain": [
       "10"
      ]
     },
     "execution_count": 4,
     "metadata": {},
     "output_type": "execute_result"
    }
   ],
   "source": [
    "x"
   ]
  },
  {
   "cell_type": "code",
   "execution_count": 5,
   "id": "cbd55a3f-ef0c-4824-8890-2fe88703ab8a",
   "metadata": {},
   "outputs": [
    {
     "name": "stdout",
     "output_type": "stream",
     "text": [
      "a= 2 b= 3 c= 4 d= 5\n"
     ]
    }
   ],
   "source": [
    "a,b,c,d=(2,3,4,5)\n",
    "print(\"a=\",a,\"b=\",b,\"c=\",c,\"d=\",d)"
   ]
  },
  {
   "cell_type": "markdown",
   "id": "53016ae1-1400-4e60-a9d3-d0e7b4bec597",
   "metadata": {},
   "source": [
    "Data Types(int,float,string,char)"
   ]
  },
  {
   "cell_type": "code",
   "execution_count": 7,
   "id": "dcab5ea2-fe87-4a62-9343-ee37ec4d7866",
   "metadata": {},
   "outputs": [],
   "source": [
    "#integer contain all number hole number\n",
    "x1=5"
   ]
  },
  {
   "cell_type": "code",
   "execution_count": 8,
   "id": "bfa908e7-d6a9-4233-904e-9c8b44f02b2a",
   "metadata": {},
   "outputs": [
    {
     "data": {
      "text/plain": [
       "int"
      ]
     },
     "execution_count": 8,
     "metadata": {},
     "output_type": "execute_result"
    }
   ],
   "source": [
    "type(x)"
   ]
  },
  {
   "cell_type": "code",
   "execution_count": 9,
   "id": "2e5548f3-de12-4be0-b28b-f427585e85a0",
   "metadata": {},
   "outputs": [
    {
     "name": "stdout",
     "output_type": "stream",
     "text": [
      "5.5\n"
     ]
    },
    {
     "data": {
      "text/plain": [
       "float"
      ]
     },
     "execution_count": 9,
     "metadata": {},
     "output_type": "execute_result"
    }
   ],
   "source": [
    "#float contain all number which include point\n",
    "x2=5.5\n",
    "print(x2)\n",
    "type(x2)"
   ]
  },
  {
   "cell_type": "code",
   "execution_count": 10,
   "id": "e7bbd342-4307-4367-a321-aa8945c0a73a",
   "metadata": {},
   "outputs": [
    {
     "data": {
      "text/plain": [
       "5.5"
      ]
     },
     "execution_count": 10,
     "metadata": {},
     "output_type": "execute_result"
    }
   ],
   "source": [
    "#How to convert datatype\n",
    "int(x2)\n",
    "x2"
   ]
  },
  {
   "cell_type": "code",
   "execution_count": 11,
   "id": "e1057c40-f706-40ee-a0c4-f7a0b16ff9b8",
   "metadata": {},
   "outputs": [
    {
     "data": {
      "text/plain": [
       "5"
      ]
     },
     "execution_count": 11,
     "metadata": {},
     "output_type": "execute_result"
    }
   ],
   "source": [
    "x2=int(x2)\n",
    "x2"
   ]
  },
  {
   "cell_type": "code",
   "execution_count": 12,
   "id": "9d5cc0ea-d08d-4bb7-a319-ce1a093ded43",
   "metadata": {},
   "outputs": [
    {
     "data": {
      "text/plain": [
       "1.9"
      ]
     },
     "execution_count": 12,
     "metadata": {},
     "output_type": "execute_result"
    }
   ],
   "source": [
    "x3=1.9\n",
    "x3"
   ]
  },
  {
   "cell_type": "code",
   "execution_count": 13,
   "id": "38e52011-c7f7-49b4-b881-aa04f0001a3c",
   "metadata": {},
   "outputs": [
    {
     "data": {
      "text/plain": [
       "1"
      ]
     },
     "execution_count": 13,
     "metadata": {},
     "output_type": "execute_result"
    }
   ],
   "source": [
    "x3=int(x3)\n",
    "x3"
   ]
  },
  {
   "cell_type": "code",
   "execution_count": 14,
   "id": "1b6141e3-c749-4f67-8e03-b75ad11d9716",
   "metadata": {},
   "outputs": [
    {
     "data": {
      "text/plain": [
       "bool"
      ]
     },
     "execution_count": 14,
     "metadata": {},
     "output_type": "execute_result"
    }
   ],
   "source": [
    "#boolen datatype\n",
    "x4=True\n",
    "# why not show two bool datatype in one line\n",
    "x5=False\n",
    "type(x5)"
   ]
  },
  {
   "cell_type": "code",
   "execution_count": 15,
   "id": "1a604116-9daf-4232-a60a-5efc4944fe08",
   "metadata": {},
   "outputs": [
    {
     "name": "stdout",
     "output_type": "stream",
     "text": [
      "Burhan\n"
     ]
    }
   ],
   "source": [
    "# for string\n",
    "x=\"Burhan\"\n",
    "print(x)"
   ]
  },
  {
   "cell_type": "code",
   "execution_count": 16,
   "id": "ec60c12e-934f-45a4-9d8e-855efa1c4f6e",
   "metadata": {},
   "outputs": [
    {
     "data": {
      "text/plain": [
       "'Ali'"
      ]
     },
     "execution_count": 16,
     "metadata": {},
     "output_type": "execute_result"
    }
   ],
   "source": [
    "a='Ali'\n",
    "a"
   ]
  },
  {
   "cell_type": "code",
   "execution_count": 17,
   "id": "9324e900-5455-4c7c-89f8-4c26dc58533d",
   "metadata": {},
   "outputs": [],
   "source": [
    "# For concatinate the string\n",
    "a='Ali' 'Mughal'"
   ]
  },
  {
   "cell_type": "code",
   "execution_count": 18,
   "id": "cf8708e3-cb31-4926-8107-27d71a2583f7",
   "metadata": {},
   "outputs": [
    {
     "data": {
      "text/plain": [
       "'AliMughal'"
      ]
     },
     "execution_count": 18,
     "metadata": {},
     "output_type": "execute_result"
    }
   ],
   "source": [
    "a"
   ]
  },
  {
   "cell_type": "code",
   "execution_count": 19,
   "id": "efba2575-5643-4832-a5e3-4adad692fd98",
   "metadata": {},
   "outputs": [
    {
     "data": {
      "text/plain": [
       "'BurhanZulfiqar'"
      ]
     },
     "execution_count": 19,
     "metadata": {},
     "output_type": "execute_result"
    }
   ],
   "source": [
    "x='Burhan'+'Zulfiqar'\n",
    "x"
   ]
  },
  {
   "cell_type": "code",
   "execution_count": 20,
   "id": "c3253b1d-3e7e-406b-87f1-f8e3a13ae6ae",
   "metadata": {},
   "outputs": [
    {
     "name": "stdout",
     "output_type": "stream",
     "text": [
      "The Mouse price is 50\n"
     ]
    }
   ],
   "source": [
    "#EX concaenate\n",
    "price=50\n",
    "print('The Mouse price is '+str(price))"
   ]
  },
  {
   "cell_type": "code",
   "execution_count": 21,
   "id": "936f2629-bdbc-474a-a03c-785698546eca",
   "metadata": {},
   "outputs": [
    {
     "data": {
      "text/plain": [
       "\"'\""
      ]
     },
     "execution_count": 21,
     "metadata": {},
     "output_type": "execute_result"
    }
   ],
   "source": [
    "\"\\'\""
   ]
  },
  {
   "cell_type": "code",
   "execution_count": 22,
   "id": "af9d4597-5939-406a-ab46-1ce5cac55dd2",
   "metadata": {},
   "outputs": [
    {
     "data": {
      "text/plain": [
       "'HEllO\"'"
      ]
     },
     "execution_count": 22,
     "metadata": {},
     "output_type": "execute_result"
    }
   ],
   "source": [
    "\"HEllO\\\"\""
   ]
  },
  {
   "cell_type": "markdown",
   "id": "b8f352fb-251d-49d8-9900-513b9c54aadf",
   "metadata": {},
   "source": [
    "Arithmetic operations"
   ]
  },
  {
   "cell_type": "code",
   "execution_count": 24,
   "id": "db2b78cc-111f-4f77-990b-ed886e2933d8",
   "metadata": {},
   "outputs": [
    {
     "data": {
      "text/plain": [
       "25"
      ]
     },
     "execution_count": 24,
     "metadata": {},
     "output_type": "execute_result"
    }
   ],
   "source": [
    "#important topic\n",
    "5+20"
   ]
  },
  {
   "cell_type": "code",
   "execution_count": 25,
   "id": "a13fc9f9-bfec-470f-8f6e-e17030336d82",
   "metadata": {},
   "outputs": [
    {
     "data": {
      "text/plain": [
       "27"
      ]
     },
     "execution_count": 25,
     "metadata": {},
     "output_type": "execute_result"
    }
   ],
   "source": [
    "3**3"
   ]
  },
  {
   "cell_type": "code",
   "execution_count": 26,
   "id": "c567896f-2c36-4806-aa40-0b685a3baf1a",
   "metadata": {},
   "outputs": [
    {
     "data": {
      "text/plain": [
       "13.5"
      ]
     },
     "execution_count": 26,
     "metadata": {},
     "output_type": "execute_result"
    }
   ],
   "source": [
    "27/2"
   ]
  },
  {
   "cell_type": "code",
   "execution_count": 27,
   "id": "dd5f0899-8ea5-49bd-b93a-05cd99641ea6",
   "metadata": {},
   "outputs": [
    {
     "data": {
      "text/plain": [
       "7.5"
      ]
     },
     "execution_count": 27,
     "metadata": {},
     "output_type": "execute_result"
    }
   ],
   "source": [
    "# line contivation\n",
    "3+5.5-1"
   ]
  },
  {
   "cell_type": "code",
   "execution_count": 28,
   "id": "60e0cbf7-2a47-4a90-b8bf-18a86a613cd6",
   "metadata": {},
   "outputs": [
    {
     "data": {
      "text/plain": [
       "26"
      ]
     },
     "execution_count": 28,
     "metadata": {},
     "output_type": "execute_result"
    }
   ],
   "source": [
    "2+33\\\n",
    "-9"
   ]
  },
  {
   "cell_type": "code",
   "execution_count": 29,
   "id": "8f845f42-3efe-4377-8a1a-86a2a8016a2e",
   "metadata": {},
   "outputs": [
    {
     "data": {
      "text/plain": [
       "-1"
      ]
     },
     "execution_count": 29,
     "metadata": {},
     "output_type": "execute_result"
    }
   ],
   "source": [
    "2+33\n",
    "-1"
   ]
  },
  {
   "cell_type": "code",
   "execution_count": 30,
   "id": "7820ea83-a380-48e4-8bd9-789ca609f611",
   "metadata": {},
   "outputs": [
    {
     "data": {
      "text/plain": [
       "2"
      ]
     },
     "execution_count": 30,
     "metadata": {},
     "output_type": "execute_result"
    }
   ],
   "source": [
    "# round function\n",
    "q=1.9\n",
    "round(q)"
   ]
  },
  {
   "cell_type": "code",
   "execution_count": 31,
   "id": "33d3c1b9-eabe-4fd0-96c6-4bbdae764464",
   "metadata": {},
   "outputs": [
    {
     "data": {
      "text/plain": [
       "'L'"
      ]
     },
     "execution_count": 31,
     "metadata": {},
     "output_type": "execute_result"
    }
   ],
   "source": [
    "#indexing\n",
    "w=\"Deep Learning\"\n",
    "w[5]"
   ]
  },
  {
   "cell_type": "code",
   "execution_count": 32,
   "id": "70618110-314f-4dc3-8516-228e056f78e5",
   "metadata": {},
   "outputs": [
    {
     "data": {
      "text/plain": [
       "'Learning'"
      ]
     },
     "execution_count": 32,
     "metadata": {},
     "output_type": "execute_result"
    }
   ],
   "source": [
    "w[5:]"
   ]
  },
  {
   "cell_type": "code",
   "execution_count": 33,
   "id": "489742cf-e0d5-440e-aef6-1318d0083454",
   "metadata": {},
   "outputs": [
    {
     "data": {
      "text/plain": [
       "'g'"
      ]
     },
     "execution_count": 33,
     "metadata": {},
     "output_type": "execute_result"
    }
   ],
   "source": [
    "w[-1]"
   ]
  },
  {
   "cell_type": "code",
   "execution_count": 34,
   "id": "df3033fb-8cd3-4751-89a1-bb4701923f9a",
   "metadata": {},
   "outputs": [
    {
     "data": {
      "text/plain": [
       "True"
      ]
     },
     "execution_count": 34,
     "metadata": {},
     "output_type": "execute_result"
    }
   ],
   "source": [
    "# comparison oprator\n",
    "5==5"
   ]
  },
  {
   "cell_type": "code",
   "execution_count": 35,
   "id": "45cf0a87-a0ec-4e59-984e-fb4b962ffdd2",
   "metadata": {},
   "outputs": [
    {
     "data": {
      "text/plain": [
       "False"
      ]
     },
     "execution_count": 35,
     "metadata": {},
     "output_type": "execute_result"
    }
   ],
   "source": [
    "45<=2"
   ]
  },
  {
   "cell_type": "code",
   "execution_count": 36,
   "id": "6f96de0a-ba18-42ee-95d7-659a7d8bde73",
   "metadata": {},
   "outputs": [
    {
     "name": "stderr",
     "output_type": "stream",
     "text": [
      "<>:2: SyntaxWarning: \"is not\" with 'int' literal. Did you mean \"!=\"?\n",
      "<>:2: SyntaxWarning: \"is not\" with 'int' literal. Did you mean \"!=\"?\n",
      "C:\\Users\\CC\\AppData\\Local\\Temp\\ipykernel_6296\\3938067941.py:2: SyntaxWarning: \"is not\" with 'int' literal. Did you mean \"!=\"?\n",
      "  100 is not 50\n"
     ]
    },
    {
     "data": {
      "text/plain": [
       "True"
      ]
     },
     "execution_count": 36,
     "metadata": {},
     "output_type": "execute_result"
    }
   ],
   "source": [
    "# identy oprator\n",
    "100 is not 50"
   ]
  },
  {
   "cell_type": "code",
   "execution_count": 37,
   "id": "04242f84-33f1-4bb1-a67b-7858cdd0b9ef",
   "metadata": {},
   "outputs": [
    {
     "name": "stderr",
     "output_type": "stream",
     "text": [
      "<>:1: SyntaxWarning: \"is\" with 'int' literal. Did you mean \"==\"?\n",
      "<>:1: SyntaxWarning: \"is\" with 'int' literal. Did you mean \"==\"?\n",
      "C:\\Users\\CC\\AppData\\Local\\Temp\\ipykernel_6296\\76598136.py:1: SyntaxWarning: \"is\" with 'int' literal. Did you mean \"==\"?\n",
      "  100 is 1000\n"
     ]
    },
    {
     "data": {
      "text/plain": [
       "False"
      ]
     },
     "execution_count": 37,
     "metadata": {},
     "output_type": "execute_result"
    }
   ],
   "source": [
    "100 is 1000"
   ]
  },
  {
   "cell_type": "code",
   "execution_count": 38,
   "id": "07e63d46-a9ba-4e2d-bbea-a1f3ceaf59c6",
   "metadata": {},
   "outputs": [
    {
     "data": {
      "text/plain": [
       "False"
      ]
     },
     "execution_count": 38,
     "metadata": {},
     "output_type": "execute_result"
    }
   ],
   "source": [
    "# logical\n",
    "not True and False or False"
   ]
  },
  {
   "cell_type": "code",
   "execution_count": 39,
   "id": "679d198e-348f-459b-b6a2-1cb203fc7f73",
   "metadata": {},
   "outputs": [
    {
     "data": {
      "text/plain": [
       "True"
      ]
     },
     "execution_count": 39,
     "metadata": {},
     "output_type": "execute_result"
    }
   ],
   "source": [
    "True and not True or True"
   ]
  },
  {
   "cell_type": "markdown",
   "id": "cf7d5870-5aa4-42f2-b216-b19610251567",
   "metadata": {},
   "source": [
    "## IF, else, elif"
   ]
  },
  {
   "cell_type": "code",
   "execution_count": 41,
   "id": "69630373-a27c-45b1-8b0a-50f51eba5850",
   "metadata": {},
   "outputs": [
    {
     "name": "stdout",
     "output_type": "stream",
     "text": [
      "10\n"
     ]
    }
   ],
   "source": [
    "x=10\n",
    "y=25\n",
    "if x>3 and y>13:\n",
    "    print(x)"
   ]
  },
  {
   "cell_type": "code",
   "execution_count": 42,
   "id": "543ec343-535a-41e0-97e7-511210164200",
   "metadata": {},
   "outputs": [
    {
     "name": "stdout",
     "output_type": "stream",
     "text": [
      "25\n"
     ]
    }
   ],
   "source": [
    "if x<11 and y>5:\n",
    "    print(y)"
   ]
  },
  {
   "cell_type": "code",
   "execution_count": 43,
   "id": "a274e1f2-f7e1-48a9-9b0b-787399d57b98",
   "metadata": {},
   "outputs": [
    {
     "name": "stdout",
     "output_type": "stream",
     "text": [
      "5\n"
     ]
    }
   ],
   "source": [
    "x=5\n",
    "y=6\n",
    "if x>4 and y>5:\n",
    "    print(x)\n",
    "else:\n",
    "    print(y)"
   ]
  },
  {
   "cell_type": "code",
   "execution_count": 44,
   "id": "4e875e17-adcc-4224-810a-7b333c883998",
   "metadata": {},
   "outputs": [
    {
     "name": "stdout",
     "output_type": "stream",
     "text": [
      "y= 5\n"
     ]
    }
   ],
   "source": [
    "x=4\n",
    "y=5\n",
    "if x>=5 and y<4:\n",
    "    print(\"x=\",x)\n",
    "elif x>2 and y>x:\n",
    "    print(\"y=\",y)\n",
    "else:\n",
    "    print(\"no Output\")\n"
   ]
  },
  {
   "cell_type": "code",
   "execution_count": 45,
   "id": "fdab03e2-d8d8-4a27-91de-40eba6296887",
   "metadata": {},
   "outputs": [
    {
     "name": "stdout",
     "output_type": "stream",
     "text": [
      "Yes\n"
     ]
    }
   ],
   "source": [
    "if x>=23 or y>=13:\n",
    "    print(y)\n",
    "elif x>3:\n",
    "    print('Yes')\n",
    "else:\n",
    "    print(\"else\")"
   ]
  },
  {
   "cell_type": "code",
   "execution_count": 46,
   "id": "83a558b1-7841-42f2-aff4-a87e587c6c50",
   "metadata": {},
   "outputs": [
    {
     "name": "stdout",
     "output_type": "stream",
     "text": [
      "Ture condition\n"
     ]
    }
   ],
   "source": [
    "if True:\n",
    "    print(\"Ture condition\")\n"
   ]
  },
  {
   "cell_type": "code",
   "execution_count": 47,
   "id": "a2a31292-7bac-4b55-adcb-bb5b26e1c5fd",
   "metadata": {},
   "outputs": [],
   "source": [
    "if False:\n",
    "    print(\"Welcome\")"
   ]
  },
  {
   "cell_type": "markdown",
   "id": "a4398556-d98f-43a0-aa9b-dd9b9a7d6cda",
   "metadata": {},
   "source": [
    "### Function"
   ]
  },
  {
   "cell_type": "code",
   "execution_count": 49,
   "id": "37fa270a-f817-4252-b3bc-dff956be1a1d",
   "metadata": {},
   "outputs": [],
   "source": [
    "def burhan():\n",
    "    print(\"My name is Burhan\")"
   ]
  },
  {
   "cell_type": "code",
   "execution_count": 50,
   "id": "96d93e30-7c5c-43aa-917f-ef4e7f05d64d",
   "metadata": {},
   "outputs": [
    {
     "name": "stdout",
     "output_type": "stream",
     "text": [
      "My name is Burhan\n"
     ]
    }
   ],
   "source": [
    "burhan()"
   ]
  },
  {
   "cell_type": "code",
   "execution_count": 51,
   "id": "7ee1b0bd-f3be-426a-ae3e-f21cb15e0ebd",
   "metadata": {},
   "outputs": [
    {
     "data": {
      "text/plain": [
       "15"
      ]
     },
     "execution_count": 51,
     "metadata": {},
     "output_type": "execute_result"
    }
   ],
   "source": [
    "def return_fun(x):\n",
    "    result=x*3\n",
    "    return result\n",
    "return_fun(5)"
   ]
  },
  {
   "cell_type": "code",
   "execution_count": 52,
   "id": "eb254158-6209-4f80-b59c-96ff59764c0f",
   "metadata": {},
   "outputs": [
    {
     "data": {
      "text/plain": [
       "44"
      ]
     },
     "execution_count": 52,
     "metadata": {},
     "output_type": "execute_result"
    }
   ],
   "source": [
    "max(3,44,-2)"
   ]
  },
  {
   "cell_type": "code",
   "execution_count": 53,
   "id": "ca76188f-4ea1-406a-8162-9c2052b31c9c",
   "metadata": {},
   "outputs": [
    {
     "data": {
      "text/plain": [
       "-2"
      ]
     },
     "execution_count": 53,
     "metadata": {},
     "output_type": "execute_result"
    }
   ],
   "source": [
    "min(3,44,-2)"
   ]
  },
  {
   "cell_type": "code",
   "execution_count": 54,
   "id": "e20d05ac-89d6-4218-89c6-b3d34ecf488a",
   "metadata": {},
   "outputs": [
    {
     "data": {
      "text/plain": [
       "2"
      ]
     },
     "execution_count": 54,
     "metadata": {},
     "output_type": "execute_result"
    }
   ],
   "source": [
    "round(1.9)"
   ]
  },
  {
   "cell_type": "markdown",
   "id": "5f87b132-a5ed-4477-94a7-a76472bde48b",
   "metadata": {},
   "source": [
    "## Lists"
   ]
  },
  {
   "cell_type": "code",
   "execution_count": 56,
   "id": "8da7c4fb-d3e3-4aa1-b2ca-602bce951e20",
   "metadata": {},
   "outputs": [
    {
     "data": {
      "text/plain": [
       "[22, 9.8, 'Burhan']"
      ]
     },
     "execution_count": 56,
     "metadata": {},
     "output_type": "execute_result"
    }
   ],
   "source": [
    "ls=[22,9.8,'Burhan']\n",
    "ls"
   ]
  },
  {
   "cell_type": "code",
   "execution_count": 57,
   "id": "e41d9a2d-b5c0-4cbb-a1bb-f3bc7b3f31cf",
   "metadata": {},
   "outputs": [
    {
     "data": {
      "text/plain": [
       "'Burhan'"
      ]
     },
     "execution_count": 57,
     "metadata": {},
     "output_type": "execute_result"
    }
   ],
   "source": [
    "ls[2]"
   ]
  },
  {
   "cell_type": "code",
   "execution_count": 58,
   "id": "485d937d-c2d6-4fad-a9ec-1fd1db04f9a2",
   "metadata": {},
   "outputs": [
    {
     "data": {
      "text/plain": [
       "[9.8, 'Burhan']"
      ]
     },
     "execution_count": 58,
     "metadata": {},
     "output_type": "execute_result"
    }
   ],
   "source": [
    "ls[1:3]"
   ]
  },
  {
   "cell_type": "code",
   "execution_count": 59,
   "id": "d0f2bc91-df18-4dd5-8878-96a1abd5ecf3",
   "metadata": {},
   "outputs": [],
   "source": [
    "ls.append(35)"
   ]
  },
  {
   "cell_type": "code",
   "execution_count": 60,
   "id": "0b15ba34-67e2-4b8c-81b8-a6328ab7e5b1",
   "metadata": {},
   "outputs": [
    {
     "data": {
      "text/plain": [
       "[22, 9.8, 'Burhan', 35]"
      ]
     },
     "execution_count": 60,
     "metadata": {},
     "output_type": "execute_result"
    }
   ],
   "source": [
    "ls"
   ]
  },
  {
   "cell_type": "code",
   "execution_count": 61,
   "id": "75a0d5c2-1a2c-430a-98d7-c64aa2a1c45c",
   "metadata": {},
   "outputs": [
    {
     "data": {
      "text/plain": [
       "4"
      ]
     },
     "execution_count": 61,
     "metadata": {},
     "output_type": "execute_result"
    }
   ],
   "source": [
    "len(ls)"
   ]
  },
  {
   "cell_type": "markdown",
   "id": "a44b08f3-2729-401b-b748-c341740ea749",
   "metadata": {},
   "source": [
    "## Some useful function"
   ]
  },
  {
   "cell_type": "code",
   "execution_count": 63,
   "id": "e5551f3b-6aaa-45f6-9196-002a82cb7106",
   "metadata": {},
   "outputs": [
    {
     "data": {
      "text/plain": [
       "[\"'INnovista'\", \"'Narowal'\", \"'3466675232'\"]"
      ]
     },
     "execution_count": 63,
     "metadata": {},
     "output_type": "execute_result"
    }
   ],
   "source": [
    "\"'INnovista','Narowal','3466675232'\".split(',')"
   ]
  },
  {
   "cell_type": "code",
   "execution_count": 64,
   "id": "fce87a9b-a1cd-46fb-b604-0fd8d1e51cba",
   "metadata": {},
   "outputs": [
    {
     "data": {
      "text/plain": [
       "90"
      ]
     },
     "execution_count": 64,
     "metadata": {},
     "output_type": "execute_result"
    }
   ],
   "source": [
    "ls2=[2,33,44,6,3,2]\n",
    "sum(ls2)"
   ]
  },
  {
   "cell_type": "code",
   "execution_count": 65,
   "id": "baa5144b-a1de-4dfe-80a5-0496a3dbb025",
   "metadata": {},
   "outputs": [
    {
     "data": {
      "text/plain": [
       "2"
      ]
     },
     "execution_count": 65,
     "metadata": {},
     "output_type": "execute_result"
    }
   ],
   "source": [
    "ls2.index(44)"
   ]
  },
  {
   "cell_type": "code",
   "execution_count": 66,
   "id": "458c8aa8-410a-4062-99d5-52be52043bd1",
   "metadata": {},
   "outputs": [
    {
     "data": {
      "text/plain": [
       "[[[22, 9.8, 'Burhan', 35], [2, 33, 44, 6, 3, 2]]]"
      ]
     },
     "execution_count": 66,
     "metadata": {},
     "output_type": "execute_result"
    }
   ],
   "source": [
    "# two demenssion\n",
    "ls3=[[ls,ls2]]\n",
    "ls3"
   ]
  },
  {
   "cell_type": "code",
   "execution_count": 67,
   "id": "4fbbbb52-4168-48f0-be3b-e5bd055cb1e1",
   "metadata": {},
   "outputs": [
    {
     "data": {
      "text/plain": [
       "list"
      ]
     },
     "execution_count": 67,
     "metadata": {},
     "output_type": "execute_result"
    }
   ],
   "source": [
    "type(ls3)"
   ]
  },
  {
   "cell_type": "code",
   "execution_count": 68,
   "id": "b7ee88d3-5b0e-4604-bc35-49a03dd44b42",
   "metadata": {},
   "outputs": [
    {
     "data": {
      "text/plain": [
       "[[22, 9.8, 'Burhan', 35], [2, 33, 44, 6, 3, 2]]"
      ]
     },
     "execution_count": 68,
     "metadata": {},
     "output_type": "execute_result"
    }
   ],
   "source": [
    "ls4=[ls,ls2]\n",
    "ls4"
   ]
  },
  {
   "cell_type": "code",
   "execution_count": 69,
   "id": "fa2dc4fc-64e4-40d4-8a89-cb49d4da13d4",
   "metadata": {},
   "outputs": [
    {
     "data": {
      "text/plain": [
       "2"
      ]
     },
     "execution_count": 69,
     "metadata": {},
     "output_type": "execute_result"
    }
   ],
   "source": [
    "ls4[1][-1]"
   ]
  },
  {
   "cell_type": "code",
   "execution_count": 148,
   "id": "72e2d6b5-e30a-43dd-8696-795246b95271",
   "metadata": {},
   "outputs": [
    {
     "data": {
      "text/plain": [
       "[[22, 9.8, 'Burhan', 35], [2, 2, 3, 6, 33, 44]]"
      ]
     },
     "execution_count": 148,
     "metadata": {},
     "output_type": "execute_result"
    }
   ],
   "source": [
    "ls4"
   ]
  },
  {
   "cell_type": "code",
   "execution_count": 152,
   "id": "4516379f-e689-4e4f-8593-6cbc69ddd9d5",
   "metadata": {},
   "outputs": [
    {
     "data": {
      "text/plain": [
       "[22, 9.8, 'Burhan', 35, 2, 2, 3, 6, 33, 44, 2, 2, 3, 6, 33, 44]"
      ]
     },
     "execution_count": 152,
     "metadata": {},
     "output_type": "execute_result"
    }
   ],
   "source": [
    "\n",
    "ls.extend(ls2)\n",
    "ls"
   ]
  },
  {
   "cell_type": "code",
   "execution_count": 70,
   "id": "2f20e261-f1b6-469f-b0f4-2bf2a896aa18",
   "metadata": {},
   "outputs": [
    {
     "data": {
      "text/plain": [
       "[2, 2, 3, 6, 33, 44]"
      ]
     },
     "execution_count": 70,
     "metadata": {},
     "output_type": "execute_result"
    }
   ],
   "source": [
    "ls2.sort()\n",
    "ls2"
   ]
  },
  {
   "cell_type": "code",
   "execution_count": 71,
   "id": "d0e0e476-6f20-485d-bdf8-4649bf037b8f",
   "metadata": {},
   "outputs": [
    {
     "data": {
      "text/plain": [
       "range(0, 10)"
      ]
     },
     "execution_count": 71,
     "metadata": {},
     "output_type": "execute_result"
    }
   ],
   "source": [
    "x=range(0,10)\n",
    "x"
   ]
  },
  {
   "cell_type": "code",
   "execution_count": 72,
   "id": "9b5adde6-114a-4d1f-898b-8dc8632fd396",
   "metadata": {},
   "outputs": [
    {
     "data": {
      "text/plain": [
       "9"
      ]
     },
     "execution_count": 72,
     "metadata": {},
     "output_type": "execute_result"
    }
   ],
   "source": [
    "x[9]"
   ]
  },
  {
   "cell_type": "markdown",
   "id": "4e9a3367-6042-4779-bd88-8fea3867f1a9",
   "metadata": {},
   "source": [
    "### Tuples"
   ]
  },
  {
   "cell_type": "code",
   "execution_count": 74,
   "id": "e4166435-b353-423c-aa1b-e8e58e66f0cc",
   "metadata": {},
   "outputs": [],
   "source": [
    "t=(2,3,4,5)"
   ]
  },
  {
   "cell_type": "code",
   "execution_count": 75,
   "id": "5b4eec67-cda4-41c4-b012-5bc2172207e8",
   "metadata": {},
   "outputs": [
    {
     "data": {
      "text/plain": [
       "(2, 3, 4, 5)"
      ]
     },
     "execution_count": 75,
     "metadata": {},
     "output_type": "execute_result"
    }
   ],
   "source": [
    "t"
   ]
  },
  {
   "cell_type": "code",
   "execution_count": 76,
   "id": "be6f746c-0658-4b07-8f2d-3f5aff721e24",
   "metadata": {},
   "outputs": [
    {
     "data": {
      "text/plain": [
       "5"
      ]
     },
     "execution_count": 76,
     "metadata": {},
     "output_type": "execute_result"
    }
   ],
   "source": [
    "t[3]"
   ]
  },
  {
   "cell_type": "markdown",
   "id": "cdad5c4f-8e2d-476a-ac7f-0fcadb4a9d41",
   "metadata": {},
   "source": [
    "## Dictionaries"
   ]
  },
  {
   "cell_type": "code",
   "execution_count": 154,
   "id": "e7d5f948-4d4e-4531-9765-a892237f0997",
   "metadata": {},
   "outputs": [
    {
     "data": {
      "text/plain": [
       "{'House_1': '450k', 'Hose_2': '30k'}"
      ]
     },
     "execution_count": 154,
     "metadata": {},
     "output_type": "execute_result"
    }
   ],
   "source": [
    "dict1={'House_1':'450k','Hose_2':'30k'}\n",
    "dict1"
   ]
  },
  {
   "cell_type": "code",
   "execution_count": 156,
   "id": "1ed892aa-7b09-49f5-9542-f5a0314010cd",
   "metadata": {},
   "outputs": [
    {
     "data": {
      "text/plain": [
       "'450k'"
      ]
     },
     "execution_count": 156,
     "metadata": {},
     "output_type": "execute_result"
    }
   ],
   "source": [
    "dict1['House_1']"
   ]
  },
  {
   "cell_type": "code",
   "execution_count": 158,
   "id": "58c40d26-eea0-417d-b2cc-1552ea8dd4ed",
   "metadata": {},
   "outputs": [],
   "source": [
    "dict1['House_3']='20k'"
   ]
  },
  {
   "cell_type": "code",
   "execution_count": 160,
   "id": "3c431bcd-f126-4022-a852-6de19c75141d",
   "metadata": {},
   "outputs": [
    {
     "data": {
      "text/plain": [
       "{'House_1': '450k', 'Hose_2': '30k', 'House_3': '20k'}"
      ]
     },
     "execution_count": 160,
     "metadata": {},
     "output_type": "execute_result"
    }
   ],
   "source": [
    "dict1"
   ]
  },
  {
   "cell_type": "code",
   "execution_count": 166,
   "id": "6356162b-228b-496b-991f-e6b0fa193644",
   "metadata": {},
   "outputs": [],
   "source": [
    "dict2={}\n",
    "dict2['another dict:']={'House_1': '450k', 'Hose_2': '30k', 'House_3': '20k'}"
   ]
  },
  {
   "cell_type": "code",
   "execution_count": 168,
   "id": "1171a62b-82de-4b81-9517-1864912483e5",
   "metadata": {},
   "outputs": [
    {
     "data": {
      "text/plain": [
       "{'another dict:': {'House_1': '450k', 'Hose_2': '30k', 'House_3': '20k'}}"
      ]
     },
     "execution_count": 168,
     "metadata": {},
     "output_type": "execute_result"
    }
   ],
   "source": [
    "dict2"
   ]
  },
  {
   "cell_type": "code",
   "execution_count": 170,
   "id": "25f7fefa-933a-4154-bed2-0aca2bfddad3",
   "metadata": {},
   "outputs": [],
   "source": [
    "dict1['another dict']={'House_1': '450k', 'Hose_2': '30k', 'House_3': '20k'}"
   ]
  },
  {
   "cell_type": "code",
   "execution_count": 172,
   "id": "3cb47c63-4a20-4800-9f89-4b908471d816",
   "metadata": {},
   "outputs": [
    {
     "data": {
      "text/plain": [
       "{'House_1': '450k',\n",
       " 'Hose_2': '30k',\n",
       " 'House_3': '20k',\n",
       " 'another dict': {'House_1': '450k', 'Hose_2': '30k', 'House_3': '20k'}}"
      ]
     },
     "execution_count": 172,
     "metadata": {},
     "output_type": "execute_result"
    }
   ],
   "source": [
    "dict1"
   ]
  },
  {
   "cell_type": "code",
   "execution_count": 178,
   "id": "02d2bfd2-14e2-48cb-b1fc-4e9c843dbb95",
   "metadata": {},
   "outputs": [
    {
     "data": {
      "text/plain": [
       "'30k'"
      ]
     },
     "execution_count": 178,
     "metadata": {},
     "output_type": "execute_result"
    }
   ],
   "source": [
    "dict1['Hose_2']"
   ]
  },
  {
   "cell_type": "markdown",
   "id": "92f4a376-ad70-4c4e-9c07-5442b5ffae9b",
   "metadata": {},
   "source": [
    "## LOOPS"
   ]
  },
  {
   "cell_type": "code",
   "execution_count": 181,
   "id": "7ffb914d-ed25-4cd0-8f89-d4ab152a9926",
   "metadata": {},
   "outputs": [
    {
     "name": "stdout",
     "output_type": "stream",
     "text": [
      "450k\n",
      "30k\n",
      "20k\n",
      "{'House_1': '450k', 'Hose_2': '30k', 'House_3': '20k'}\n"
     ]
    }
   ],
   "source": [
    "for i in dict1:\n",
    "    print(dict1[i])"
   ]
  },
  {
   "cell_type": "code",
   "execution_count": 183,
   "id": "7ebe40f8-7c0c-4bb0-a763-b644803a925a",
   "metadata": {},
   "outputs": [
    {
     "name": "stdout",
     "output_type": "stream",
     "text": [
      "House_1\n",
      "Hose_2\n",
      "House_3\n",
      "another dict\n"
     ]
    }
   ],
   "source": [
    "for i in dict1:\n",
    "    print(i)"
   ]
  },
  {
   "cell_type": "code",
   "execution_count": 188,
   "id": "56a83101-66ea-4a23-be2a-c9db641f8376",
   "metadata": {},
   "outputs": [
    {
     "name": "stdout",
     "output_type": "stream",
     "text": [
      "0\n",
      "1\n",
      "2\n",
      "3\n",
      "4\n",
      "5\n",
      "6\n",
      "7\n",
      "8\n",
      "9\n"
     ]
    }
   ],
   "source": [
    "x=0\n",
    "while(x<10):\n",
    "    print(x)\n",
    "    x+=1"
   ]
  },
  {
   "cell_type": "code",
   "execution_count": 194,
   "id": "82683986-1d45-43a1-acc3-516f4583854a",
   "metadata": {},
   "outputs": [
    {
     "name": "stdout",
     "output_type": "stream",
     "text": [
      "2 1\n",
      "2 3\n",
      "2 5\n",
      "2 7\n",
      "2 9\n",
      "3 1\n",
      "3 3\n",
      "3 5\n",
      "3 7\n",
      "3 9\n",
      "4 1\n",
      "4 3\n",
      "4 5\n",
      "4 7\n",
      "4 9\n",
      "5 1\n",
      "5 3\n",
      "5 5\n",
      "5 7\n",
      "5 9\n",
      "67 1\n",
      "67 3\n",
      "67 5\n",
      "67 7\n",
      "67 9\n",
      "6 1\n",
      "6 3\n",
      "6 5\n",
      "6 7\n",
      "6 9\n"
     ]
    }
   ],
   "source": [
    "# nested loop\n",
    "ls=[2,3,4,5,67,6]\n",
    "ls1=[1,3,5,7,9]\n",
    "for i in ls:\n",
    "    for j in ls1:\n",
    "        print(i,j)\n",
    "        "
   ]
  },
  {
   "cell_type": "code",
   "execution_count": 200,
   "id": "044611a9-bc19-4f3f-bfa8-6deb1248ea7b",
   "metadata": {},
   "outputs": [
    {
     "data": {
      "text/plain": [
       "4.795831523312719"
      ]
     },
     "execution_count": 200,
     "metadata": {},
     "output_type": "execute_result"
    }
   ],
   "source": [
    "import math as m\n",
    "math.sqrt(23)"
   ]
  },
  {
   "cell_type": "code",
   "execution_count": 202,
   "id": "b1ba201c-4c38-41bc-b1c5-2ed54d642923",
   "metadata": {},
   "outputs": [
    {
     "data": {
      "text/plain": [
       "25.0"
      ]
     },
     "execution_count": 202,
     "metadata": {},
     "output_type": "execute_result"
    }
   ],
   "source": [
    "m.sqrt(625)"
   ]
  },
  {
   "cell_type": "code",
   "execution_count": 206,
   "id": "2d267294-dcae-4264-ba52-1ea4c01057ea",
   "metadata": {},
   "outputs": [],
   "source": [
    "import numpy as np\n",
    "q=np.array([1,2,3,4,56,6])"
   ]
  },
  {
   "cell_type": "code",
   "execution_count": 208,
   "id": "38ecc592-487a-4129-a8a4-f60dbb1cef4c",
   "metadata": {},
   "outputs": [
    {
     "data": {
      "text/plain": [
       "array([ 1,  2,  3,  4, 56,  6])"
      ]
     },
     "execution_count": 208,
     "metadata": {},
     "output_type": "execute_result"
    }
   ],
   "source": [
    "q"
   ]
  },
  {
   "cell_type": "code",
   "execution_count": 210,
   "id": "d6649ce2-7c3c-4a86-83fd-2006116deff2",
   "metadata": {},
   "outputs": [
    {
     "data": {
      "text/plain": [
       "numpy.ndarray"
      ]
     },
     "execution_count": 210,
     "metadata": {},
     "output_type": "execute_result"
    }
   ],
   "source": [
    "type(q)"
   ]
  },
  {
   "cell_type": "code",
   "execution_count": 216,
   "id": "fd613d5b-b45f-4377-9e3d-23dd095c2486",
   "metadata": {},
   "outputs": [
    {
     "data": {
      "text/plain": [
       "5.0"
      ]
     },
     "execution_count": 216,
     "metadata": {},
     "output_type": "execute_result"
    }
   ],
   "source": [
    "from math import sqrt as sq\n",
    "sq(25)"
   ]
  },
  {
   "cell_type": "code",
   "execution_count": 218,
   "id": "d2a3bc0d-53fc-457e-a32b-6eb9206aaf44",
   "metadata": {},
   "outputs": [
    {
     "data": {
      "text/plain": [
       "5.385164807134504"
      ]
     },
     "execution_count": 218,
     "metadata": {},
     "output_type": "execute_result"
    }
   ],
   "source": [
    "from math import sqrt\n",
    "sqrt(29)"
   ]
  },
  {
   "cell_type": "code",
   "execution_count": 220,
   "id": "024e37fd-f62a-4a4c-a358-baacc344e119",
   "metadata": {},
   "outputs": [],
   "source": [
    "from math import*"
   ]
  },
  {
   "cell_type": "code",
   "execution_count": 224,
   "id": "a1957435-e199-40e6-8c95-feafea8e3b0f",
   "metadata": {},
   "outputs": [],
   "source": [
    "# Difference between from and import*\n",
    "#FOR FROM\n",
    "# import math \n",
    "# sqrt(25)\n",
    "#Now error display\n",
    "# Now code for import*\n",
    "# from math import*\n",
    "# sqrt(25)\n",
    "# Now this code is run"
   ]
  },
  {
   "cell_type": "code",
   "execution_count": 230,
   "id": "662cb9a3-825d-4ed0-91cd-ad91bf0d0b05",
   "metadata": {},
   "outputs": [
    {
     "data": {
      "text/plain": [
       "6"
      ]
     },
     "execution_count": 230,
     "metadata": {},
     "output_type": "execute_result"
    }
   ],
   "source": [
    "floor(6.9)"
   ]
  },
  {
   "cell_type": "code",
   "execution_count": 232,
   "id": "4160828e-389b-4074-8470-3de49dd37daa",
   "metadata": {},
   "outputs": [
    {
     "data": {
      "text/plain": [
       "5.0"
      ]
     },
     "execution_count": 232,
     "metadata": {},
     "output_type": "execute_result"
    }
   ],
   "source": [
    "# for bbest practice code\n",
    "import math as m\n",
    "m.sqrt(25)"
   ]
  },
  {
   "cell_type": "code",
   "execution_count": 235,
   "id": "d6b02874-6862-4d6a-9d4d-c4ab7ed60ff6",
   "metadata": {},
   "outputs": [
    {
     "ename": "ModuleNotFoundError",
     "evalue": "No module named 'torch'",
     "output_type": "error",
     "traceback": [
      "\u001b[1;31m---------------------------------------------------------------------------\u001b[0m",
      "\u001b[1;31mModuleNotFoundError\u001b[0m                       Traceback (most recent call last)",
      "Cell \u001b[1;32mIn[235], line 1\u001b[0m\n\u001b[1;32m----> 1\u001b[0m \u001b[38;5;28;01mimport\u001b[39;00m \u001b[38;5;21;01mtorch\u001b[39;00m\n",
      "\u001b[1;31mModuleNotFoundError\u001b[0m: No module named 'torch'"
     ]
    }
   ],
   "source": [
    "import torch\n",
    "# the tourch not add in math"
   ]
  },
  {
   "cell_type": "markdown",
   "id": "d2be4e23-532a-4f85-9bdb-9b15faa9f4ac",
   "metadata": {},
   "source": [
    "## CLASSES"
   ]
  },
  {
   "cell_type": "code",
   "execution_count": 249,
   "id": "50770a94-3103-4466-b619-0fe1f24bdd6a",
   "metadata": {},
   "outputs": [],
   "source": [
    "class car():\n",
    "    def __init__(self,make,model,year):\n",
    "        self.make=make\n",
    "        self.model=model\n",
    "        self.year=year\n",
    "    def getcarname(self):\n",
    "        print(f\"The name od the car us:{self.make}\")"
   ]
  },
  {
   "cell_type": "code",
   "execution_count": 251,
   "id": "e056a7a1-0531-4047-9ac5-06a085a9b2cc",
   "metadata": {},
   "outputs": [],
   "source": [
    "car1=car('Honda','city',2024)"
   ]
  },
  {
   "cell_type": "code",
   "execution_count": 241,
   "id": "eb8dca5a-200b-4ec9-9785-273ae429445f",
   "metadata": {},
   "outputs": [
    {
     "data": {
      "text/plain": [
       "<__main__.car at 0x1e47f1809e0>"
      ]
     },
     "execution_count": 241,
     "metadata": {},
     "output_type": "execute_result"
    }
   ],
   "source": [
    "car1"
   ]
  },
  {
   "cell_type": "code",
   "execution_count": 253,
   "id": "0ab863bb-34c9-42c9-88ad-2415eadff362",
   "metadata": {},
   "outputs": [
    {
     "name": "stdout",
     "output_type": "stream",
     "text": [
      "The name od the car us:Honda\n"
     ]
    }
   ],
   "source": [
    "car1.getcarname()"
   ]
  }
 ],
 "metadata": {
  "kernelspec": {
   "display_name": "Python 3 (ipykernel)",
   "language": "python",
   "name": "python3"
  },
  "language_info": {
   "codemirror_mode": {
    "name": "ipython",
    "version": 3
   },
   "file_extension": ".py",
   "mimetype": "text/x-python",
   "name": "python",
   "nbconvert_exporter": "python",
   "pygments_lexer": "ipython3",
   "version": "3.12.4"
  }
 },
 "nbformat": 4,
 "nbformat_minor": 5
}
